{
  "cells": [
    {
      "cell_type": "markdown",
      "metadata": {
        "id": "view-in-github",
        "colab_type": "text"
      },
      "source": [
        "<a href=\"https://colab.research.google.com/github/heirynhr/legalduel-1a/blob/main/LegalDuel1A.ipynb\" target=\"_parent\"><img src=\"https://colab.research.google.com/assets/colab-badge.svg\" alt=\"Open In Colab\"/></a>"
      ]
    },
    {
      "cell_type": "code",
      "execution_count": null,
      "metadata": {
        "id": "VPPfcPuJE-Q5",
        "colab": {
          "base_uri": "https://localhost:8080/"
        },
        "outputId": "e06a7c64-c7de-4f3b-9857-143dbea060b2"
      },
      "outputs": [
        {
          "output_type": "stream",
          "name": "stdout",
          "text": [
            "Requirement already satisfied: dateparser in /usr/local/lib/python3.10/dist-packages (1.2.0)\n",
            "Requirement already satisfied: python-dateutil in /usr/local/lib/python3.10/dist-packages (from dateparser) (2.8.2)\n",
            "Requirement already satisfied: pytz in /usr/local/lib/python3.10/dist-packages (from dateparser) (2024.2)\n",
            "Requirement already satisfied: regex!=2019.02.19,!=2021.8.27 in /usr/local/lib/python3.10/dist-packages (from dateparser) (2024.9.11)\n",
            "Requirement already satisfied: tzlocal in /usr/local/lib/python3.10/dist-packages (from dateparser) (5.2)\n",
            "Requirement already satisfied: six>=1.5 in /usr/local/lib/python3.10/dist-packages (from python-dateutil->dateparser) (1.16.0)\n"
          ]
        }
      ],
      "source": [
        "!pip install dateparser"
      ]
    },
    {
      "cell_type": "code",
      "execution_count": null,
      "metadata": {
        "colab": {
          "base_uri": "https://localhost:8080/"
        },
        "id": "YJcNUOpK4-dU",
        "outputId": "35d6c6bc-145c-4ca5-84fa-7f55f0885535"
      },
      "outputs": [
        {
          "output_type": "stream",
          "name": "stdout",
          "text": [
            "Collecting PyPDF2\n",
            "  Downloading pypdf2-3.0.1-py3-none-any.whl.metadata (6.8 kB)\n",
            "Downloading pypdf2-3.0.1-py3-none-any.whl (232 kB)\n",
            "\u001b[?25l   \u001b[90m━━━━━━━━━━━━━━━━━━━━━━━━━━━━━━━━━━━━━━━━\u001b[0m \u001b[32m0.0/232.6 kB\u001b[0m \u001b[31m?\u001b[0m eta \u001b[36m-:--:--\u001b[0m\r\u001b[2K   \u001b[91m━━━━━━━━━━━━━━━\u001b[0m\u001b[91m╸\u001b[0m\u001b[90m━━━━━━━━━━━━━━━━━━━━━━━━\u001b[0m \u001b[32m92.2/232.6 kB\u001b[0m \u001b[31m2.5 MB/s\u001b[0m eta \u001b[36m0:00:01\u001b[0m\r\u001b[2K   \u001b[90m━━━━━━━━━━━━━━━━━━━━━━━━━━━━━━━━━━━━━━━━\u001b[0m \u001b[32m232.6/232.6 kB\u001b[0m \u001b[31m3.5 MB/s\u001b[0m eta \u001b[36m0:00:00\u001b[0m\n",
            "\u001b[?25hInstalling collected packages: PyPDF2\n",
            "Successfully installed PyPDF2-3.0.1\n"
          ]
        }
      ],
      "source": [
        "!pip install PyPDF2"
      ]
    },
    {
      "cell_type": "code",
      "execution_count": null,
      "metadata": {
        "colab": {
          "base_uri": "https://localhost:8080/"
        },
        "id": "NXoLhz4_xKmR",
        "outputId": "03608757-2669-4910-e5ef-a1b4aa517706"
      },
      "outputs": [
        {
          "output_type": "stream",
          "name": "stdout",
          "text": [
            "Requirement already satisfied: nltk in /usr/local/lib/python3.10/dist-packages (3.8.1)\n",
            "Requirement already satisfied: click in /usr/local/lib/python3.10/dist-packages (from nltk) (8.1.7)\n",
            "Requirement already satisfied: joblib in /usr/local/lib/python3.10/dist-packages (from nltk) (1.4.2)\n",
            "Requirement already satisfied: regex>=2021.8.3 in /usr/local/lib/python3.10/dist-packages (from nltk) (2024.9.11)\n",
            "Requirement already satisfied: tqdm in /usr/local/lib/python3.10/dist-packages (from nltk) (4.66.5)\n"
          ]
        }
      ],
      "source": [
        "\n",
        "!pip install nltk\n"
      ]
    },
    {
      "cell_type": "code",
      "execution_count": null,
      "metadata": {
        "colab": {
          "base_uri": "https://localhost:8080/"
        },
        "id": "nlhAf28p4MdB",
        "outputId": "13cfebbd-b600-4c94-c093-38ecd9eb9886"
      },
      "outputs": [
        {
          "output_type": "stream",
          "name": "stderr",
          "text": [
            "[nltk_data] Downloading package stopwords to /root/nltk_data...\n",
            "[nltk_data]   Package stopwords is already up-to-date!\n"
          ]
        }
      ],
      "source": [
        "# importing libraries here\n",
        "\n",
        "from transformers import BartTokenizer, BartForConditionalGeneration\n",
        "import torch\n",
        "from PyPDF2 import PdfReader\n",
        "from google.colab import files\n",
        "import spacy\n",
        "import nltk\n",
        "from nltk.corpus import stopwords\n",
        "from datetime import datetime\n",
        "import dateparser\n",
        "from transformers import pipeline\n",
        "nltk.download('stopwords')\n",
        "\n",
        "nlp = spacy.load(\"en_core_web_sm\")"
      ]
    },
    {
      "cell_type": "code",
      "execution_count": null,
      "metadata": {
        "colab": {
          "base_uri": "https://localhost:8080/",
          "height": 73
        },
        "id": "el6D46Lk6WAU",
        "outputId": "14e58201-ad25-4469-e432-c13b8a9e4fb5"
      },
      "outputs": [
        {
          "output_type": "display_data",
          "data": {
            "text/plain": [
              "<IPython.core.display.HTML object>"
            ],
            "text/html": [
              "\n",
              "     <input type=\"file\" id=\"files-b53d525a-7a1c-4704-947d-a146614a4a42\" name=\"files[]\" multiple disabled\n",
              "        style=\"border:none\" />\n",
              "     <output id=\"result-b53d525a-7a1c-4704-947d-a146614a4a42\">\n",
              "      Upload widget is only available when the cell has been executed in the\n",
              "      current browser session. Please rerun this cell to enable.\n",
              "      </output>\n",
              "      <script>// Copyright 2017 Google LLC\n",
              "//\n",
              "// Licensed under the Apache License, Version 2.0 (the \"License\");\n",
              "// you may not use this file except in compliance with the License.\n",
              "// You may obtain a copy of the License at\n",
              "//\n",
              "//      http://www.apache.org/licenses/LICENSE-2.0\n",
              "//\n",
              "// Unless required by applicable law or agreed to in writing, software\n",
              "// distributed under the License is distributed on an \"AS IS\" BASIS,\n",
              "// WITHOUT WARRANTIES OR CONDITIONS OF ANY KIND, either express or implied.\n",
              "// See the License for the specific language governing permissions and\n",
              "// limitations under the License.\n",
              "\n",
              "/**\n",
              " * @fileoverview Helpers for google.colab Python module.\n",
              " */\n",
              "(function(scope) {\n",
              "function span(text, styleAttributes = {}) {\n",
              "  const element = document.createElement('span');\n",
              "  element.textContent = text;\n",
              "  for (const key of Object.keys(styleAttributes)) {\n",
              "    element.style[key] = styleAttributes[key];\n",
              "  }\n",
              "  return element;\n",
              "}\n",
              "\n",
              "// Max number of bytes which will be uploaded at a time.\n",
              "const MAX_PAYLOAD_SIZE = 100 * 1024;\n",
              "\n",
              "function _uploadFiles(inputId, outputId) {\n",
              "  const steps = uploadFilesStep(inputId, outputId);\n",
              "  const outputElement = document.getElementById(outputId);\n",
              "  // Cache steps on the outputElement to make it available for the next call\n",
              "  // to uploadFilesContinue from Python.\n",
              "  outputElement.steps = steps;\n",
              "\n",
              "  return _uploadFilesContinue(outputId);\n",
              "}\n",
              "\n",
              "// This is roughly an async generator (not supported in the browser yet),\n",
              "// where there are multiple asynchronous steps and the Python side is going\n",
              "// to poll for completion of each step.\n",
              "// This uses a Promise to block the python side on completion of each step,\n",
              "// then passes the result of the previous step as the input to the next step.\n",
              "function _uploadFilesContinue(outputId) {\n",
              "  const outputElement = document.getElementById(outputId);\n",
              "  const steps = outputElement.steps;\n",
              "\n",
              "  const next = steps.next(outputElement.lastPromiseValue);\n",
              "  return Promise.resolve(next.value.promise).then((value) => {\n",
              "    // Cache the last promise value to make it available to the next\n",
              "    // step of the generator.\n",
              "    outputElement.lastPromiseValue = value;\n",
              "    return next.value.response;\n",
              "  });\n",
              "}\n",
              "\n",
              "/**\n",
              " * Generator function which is called between each async step of the upload\n",
              " * process.\n",
              " * @param {string} inputId Element ID of the input file picker element.\n",
              " * @param {string} outputId Element ID of the output display.\n",
              " * @return {!Iterable<!Object>} Iterable of next steps.\n",
              " */\n",
              "function* uploadFilesStep(inputId, outputId) {\n",
              "  const inputElement = document.getElementById(inputId);\n",
              "  inputElement.disabled = false;\n",
              "\n",
              "  const outputElement = document.getElementById(outputId);\n",
              "  outputElement.innerHTML = '';\n",
              "\n",
              "  const pickedPromise = new Promise((resolve) => {\n",
              "    inputElement.addEventListener('change', (e) => {\n",
              "      resolve(e.target.files);\n",
              "    });\n",
              "  });\n",
              "\n",
              "  const cancel = document.createElement('button');\n",
              "  inputElement.parentElement.appendChild(cancel);\n",
              "  cancel.textContent = 'Cancel upload';\n",
              "  const cancelPromise = new Promise((resolve) => {\n",
              "    cancel.onclick = () => {\n",
              "      resolve(null);\n",
              "    };\n",
              "  });\n",
              "\n",
              "  // Wait for the user to pick the files.\n",
              "  const files = yield {\n",
              "    promise: Promise.race([pickedPromise, cancelPromise]),\n",
              "    response: {\n",
              "      action: 'starting',\n",
              "    }\n",
              "  };\n",
              "\n",
              "  cancel.remove();\n",
              "\n",
              "  // Disable the input element since further picks are not allowed.\n",
              "  inputElement.disabled = true;\n",
              "\n",
              "  if (!files) {\n",
              "    return {\n",
              "      response: {\n",
              "        action: 'complete',\n",
              "      }\n",
              "    };\n",
              "  }\n",
              "\n",
              "  for (const file of files) {\n",
              "    const li = document.createElement('li');\n",
              "    li.append(span(file.name, {fontWeight: 'bold'}));\n",
              "    li.append(span(\n",
              "        `(${file.type || 'n/a'}) - ${file.size} bytes, ` +\n",
              "        `last modified: ${\n",
              "            file.lastModifiedDate ? file.lastModifiedDate.toLocaleDateString() :\n",
              "                                    'n/a'} - `));\n",
              "    const percent = span('0% done');\n",
              "    li.appendChild(percent);\n",
              "\n",
              "    outputElement.appendChild(li);\n",
              "\n",
              "    const fileDataPromise = new Promise((resolve) => {\n",
              "      const reader = new FileReader();\n",
              "      reader.onload = (e) => {\n",
              "        resolve(e.target.result);\n",
              "      };\n",
              "      reader.readAsArrayBuffer(file);\n",
              "    });\n",
              "    // Wait for the data to be ready.\n",
              "    let fileData = yield {\n",
              "      promise: fileDataPromise,\n",
              "      response: {\n",
              "        action: 'continue',\n",
              "      }\n",
              "    };\n",
              "\n",
              "    // Use a chunked sending to avoid message size limits. See b/62115660.\n",
              "    let position = 0;\n",
              "    do {\n",
              "      const length = Math.min(fileData.byteLength - position, MAX_PAYLOAD_SIZE);\n",
              "      const chunk = new Uint8Array(fileData, position, length);\n",
              "      position += length;\n",
              "\n",
              "      const base64 = btoa(String.fromCharCode.apply(null, chunk));\n",
              "      yield {\n",
              "        response: {\n",
              "          action: 'append',\n",
              "          file: file.name,\n",
              "          data: base64,\n",
              "        },\n",
              "      };\n",
              "\n",
              "      let percentDone = fileData.byteLength === 0 ?\n",
              "          100 :\n",
              "          Math.round((position / fileData.byteLength) * 100);\n",
              "      percent.textContent = `${percentDone}% done`;\n",
              "\n",
              "    } while (position < fileData.byteLength);\n",
              "  }\n",
              "\n",
              "  // All done.\n",
              "  yield {\n",
              "    response: {\n",
              "      action: 'complete',\n",
              "    }\n",
              "  };\n",
              "}\n",
              "\n",
              "scope.google = scope.google || {};\n",
              "scope.google.colab = scope.google.colab || {};\n",
              "scope.google.colab._files = {\n",
              "  _uploadFiles,\n",
              "  _uploadFilesContinue,\n",
              "};\n",
              "})(self);\n",
              "</script> "
            ]
          },
          "metadata": {}
        },
        {
          "output_type": "stream",
          "name": "stdout",
          "text": [
            "Saving Chron.B.1.docx to Chron.B.1.docx\n"
          ]
        }
      ],
      "source": [
        "# this is how we are able to upload the different chronologies into the document\n",
        "# run this cell to add new docs\n",
        "\n",
        "uploaded = files.upload()"
      ]
    },
    {
      "cell_type": "code",
      "source": [
        "!pip install python-docx"
      ],
      "metadata": {
        "colab": {
          "base_uri": "https://localhost:8080/"
        },
        "id": "or6WWq6wEyHG",
        "outputId": "e5f7aec7-1a4d-4e84-c7b6-1fd2c71700a1"
      },
      "execution_count": null,
      "outputs": [
        {
          "output_type": "stream",
          "name": "stdout",
          "text": [
            "Collecting python-docx\n",
            "  Downloading python_docx-1.1.2-py3-none-any.whl.metadata (2.0 kB)\n",
            "Requirement already satisfied: lxml>=3.1.0 in /usr/local/lib/python3.10/dist-packages (from python-docx) (4.9.4)\n",
            "Requirement already satisfied: typing-extensions>=4.9.0 in /usr/local/lib/python3.10/dist-packages (from python-docx) (4.12.2)\n",
            "Downloading python_docx-1.1.2-py3-none-any.whl (244 kB)\n",
            "\u001b[?25l   \u001b[90m━━━━━━━━━━━━━━━━━━━━━━━━━━━━━━━━━━━━━━━━\u001b[0m \u001b[32m0.0/244.3 kB\u001b[0m \u001b[31m?\u001b[0m eta \u001b[36m-:--:--\u001b[0m\r\u001b[2K   \u001b[91m━━━━━━━━━━━━━━━\u001b[0m\u001b[90m╺\u001b[0m\u001b[90m━━━━━━━━━━━━━━━━━━━━━━━━\u001b[0m \u001b[32m92.2/244.3 kB\u001b[0m \u001b[31m2.6 MB/s\u001b[0m eta \u001b[36m0:00:01\u001b[0m\r\u001b[2K   \u001b[90m━━━━━━━━━━━━━━━━━━━━━━━━━━━━━━━━━━━━━━━━\u001b[0m \u001b[32m244.3/244.3 kB\u001b[0m \u001b[31m3.9 MB/s\u001b[0m eta \u001b[36m0:00:00\u001b[0m\n",
            "\u001b[?25hInstalling collected packages: python-docx\n",
            "Successfully installed python-docx-1.1.2\n"
          ]
        }
      ]
    },
    {
      "cell_type": "markdown",
      "source": [
        "---- Here is where we will be experimenting with different date recognition tools"
      ],
      "metadata": {
        "id": "QrkmHOsJPVMO"
      }
    },
    {
      "cell_type": "code",
      "source": [
        "from docx import Document\n",
        "\n",
        "file_path = uploaded['Chron.B.1.docx']\n",
        "\n",
        "# Open the file in binary mode ('rb') for reading\n",
        "with open('Chron.B.1.docx', 'rb') as f:\n",
        "    doc = Document(f)\n",
        "\n",
        "conversation = []\n",
        "for line in doc.paragraphs:\n",
        "  conversation.append(line.text)\n",
        "\n",
        "print(len(conversation))"
      ],
      "metadata": {
        "colab": {
          "base_uri": "https://localhost:8080/"
        },
        "id": "qLRzHRLVEhlU",
        "outputId": "158eba16-828e-40e5-f143-ceb8468abadf"
      },
      "execution_count": 42,
      "outputs": [
        {
          "output_type": "stream",
          "name": "stdout",
          "text": [
            "104\n"
          ]
        }
      ]
    },
    {
      "cell_type": "code",
      "source": [
        "def validate_dates(date):\n",
        "  date_obj = None\n",
        "  try:\n",
        "    # Corrected the format string for the date with the year included\n",
        "    date_obj = datetime.strptime(date, \"%B %d, %Y\")\n",
        "  except ValueError:\n",
        "    try:\n",
        "      # If no year, try to format the date with just month and day\n",
        "      date_obj = datetime.strptime(date, \"%B %d\")\n",
        "    except ValueError:\n",
        "      # If it's not a valid date, the error will be handled here\n",
        "      date_obj = None\n",
        "  return date_obj"
      ],
      "metadata": {
        "id": "1wb-c0LbHC7T"
      },
      "execution_count": 56,
      "outputs": []
    },
    {
      "cell_type": "code",
      "source": [
        "nlp = spacy.load(\"en_core_web_sm\")\n",
        "\n",
        "tokens = []\n",
        "for item in conversation:\n",
        "  line = nlp(item)\n",
        "  dates = [ent for ent in line.ents if ent.label_ in (\"DATE\")]\n",
        "  for date in dates:\n",
        "    date_str = date.text.strip()\n",
        "\n",
        "    validated_date = validate_dates(date_str)\n",
        "\n",
        "    token = (validated_date, item)\n",
        "    tokens.append(token)\n",
        "\n",
        "\n",
        "print(tokens[10])"
      ],
      "metadata": {
        "colab": {
          "base_uri": "https://localhost:8080/"
        },
        "id": "48Jc3UcsQFHs",
        "outputId": "aa86372a-4c42-40ee-f013-a3e661caeca4",
        "collapsed": true
      },
      "execution_count": 58,
      "outputs": [
        {
          "output_type": "stream",
          "name": "stdout",
          "text": [
            "(datetime.datetime(2023, 11, 25, 0, 0), 'Rachel Adams: Yes, I contacted customer support again on November 25, 2023, and they sent a replacement unit, which arrived on December 1, 2023. However, the replacement unit had similar issues and did not resolve the problem.')\n"
          ]
        }
      ]
    },
    {
      "cell_type": "code",
      "source": [
        "def summarize_date_tokens(tokens):\n",
        "  summaries = []\n",
        "  summarizer = pipeline(\"summarization\", model=\"facebook/bart-large-cnn\")\n",
        "  for date_obj, context in tokens:\n",
        "\n",
        "    summary = summarizer(context, max_length=40, min_length=5, do_sample=False)\n",
        "\n",
        "    # Formatting to exclude extra built in text\n",
        "    summary_strip = summary[0]\n",
        "    summary_text = summary_strip['summary_text']\n",
        "\n",
        "    event = f\"{date_str}: {summary_text}\"\n",
        "\n",
        "    summaries.append(event)\n",
        "\n",
        "  return summaries\n",
        "\n",
        "summaries = summarize_date_tokens(tokens)\n",
        "summaries"
      ],
      "metadata": {
        "colab": {
          "base_uri": "https://localhost:8080/"
        },
        "id": "perLrNPTKN9V",
        "outputId": "5e5fea53-cae0-4794-ebd7-a752e67020d5"
      },
      "execution_count": 61,
      "outputs": [
        {
          "output_type": "stream",
          "name": "stderr",
          "text": [
            "Your max_length is set to 40, but your input_length is only 10. Since this is a summarization task, where outputs shorter than the input are typically wanted, you might consider decreasing max_length manually, e.g. summarizer('...', max_length=5)\n",
            "Your max_length is set to 40, but your input_length is only 35. Since this is a summarization task, where outputs shorter than the input are typically wanted, you might consider decreasing max_length manually, e.g. summarizer('...', max_length=17)\n",
            "Your max_length is set to 40, but your input_length is only 36. Since this is a summarization task, where outputs shorter than the input are typically wanted, you might consider decreasing max_length manually, e.g. summarizer('...', max_length=18)\n",
            "Your max_length is set to 40, but your input_length is only 21. Since this is a summarization task, where outputs shorter than the input are typically wanted, you might consider decreasing max_length manually, e.g. summarizer('...', max_length=10)\n",
            "Your max_length is set to 40, but your input_length is only 37. Since this is a summarization task, where outputs shorter than the input are typically wanted, you might consider decreasing max_length manually, e.g. summarizer('...', max_length=18)\n",
            "Your max_length is set to 40, but your input_length is only 10. Since this is a summarization task, where outputs shorter than the input are typically wanted, you might consider decreasing max_length manually, e.g. summarizer('...', max_length=5)\n",
            "Your max_length is set to 40, but your input_length is only 30. Since this is a summarization task, where outputs shorter than the input are typically wanted, you might consider decreasing max_length manually, e.g. summarizer('...', max_length=15)\n",
            "Your max_length is set to 40, but your input_length is only 39. Since this is a summarization task, where outputs shorter than the input are typically wanted, you might consider decreasing max_length manually, e.g. summarizer('...', max_length=19)\n",
            "Your max_length is set to 40, but your input_length is only 39. Since this is a summarization task, where outputs shorter than the input are typically wanted, you might consider decreasing max_length manually, e.g. summarizer('...', max_length=19)\n",
            "Your max_length is set to 40, but your input_length is only 24. Since this is a summarization task, where outputs shorter than the input are typically wanted, you might consider decreasing max_length manually, e.g. summarizer('...', max_length=12)\n",
            "Your max_length is set to 40, but your input_length is only 10. Since this is a summarization task, where outputs shorter than the input are typically wanted, you might consider decreasing max_length manually, e.g. summarizer('...', max_length=5)\n"
          ]
        },
        {
          "output_type": "execute_result",
          "data": {
            "text/plain": [
              "[\"March 1, 2024: CNN will be broadcasting a live special on CNN.com on August 22, 2024. Click here for more information about CNN's upcoming special.\",\n",
              " 'March 1, 2024: Rachel Adams is a marketing manager in Denver, Colorado. She lives with her husband and three children.',\n",
              " 'March 1, 2024: Rachel Adams first heard about the SafeHome Security System in September 2023. It was advertised as a comprehensive home security solution with advanced features.',\n",
              " 'March 1, 2024: Rachel Adams purchased the book on October 10, 2023. She bought it online from SafeHome.',\n",
              " \"March 1, 2024: Initially, the system seemed to work well. We were impressed with the app's interface and the ability to monitor our home remotely.\",\n",
              " 'March 1, 2024: The first issues began in November 2023. On November 5, 2023, the system started to malfunction.',\n",
              " 'March 1, 2024: The first issues began in November 2023. On November 5, 2023, the system started to malfunction.',\n",
              " 'March 1, 2024: The first issues began in November 2023. On November 5, 2023, the system started to malfunction.',\n",
              " 'March 1, 2024: Rachel Adams contacted customer support on November 6, 2023. They suggested a series of troubleshooting steps.',\n",
              " 'March 1, 2024: Someone attempted to break into our garage, but the system did not trigger an alarm. We only discovered the attempted break-in the next morning.',\n",
              " 'March 1, 2024: Customer support sent a replacement unit, which arrived on December 1, 2023. However, the replacement unit had similar issues and did not resolve the problem.',\n",
              " 'March 1, 2024: Customer support sent a replacement unit, which arrived on December 1, 2023. However, the replacement unit had similar issues and did not resolve the problem.',\n",
              " 'March 1, 2024: On December 15, 2023, the system malfunctioned again, causing another false alarm. The police were dispatched to our home, and we had to deal with the inconvenience.',\n",
              " \"March 1, 2024: CNN will be broadcasting a live special on CNN.com on August 22, 2024. Click here for more information about CNN's upcoming special.\",\n",
              " 'March 1, 2024: The system would trigger an alarm in the middle of the night, waking up the entire household. This happened at least five times between November 5 and November 15, 2023.',\n",
              " 'March 1, 2024: The system would trigger an alarm in the middle of the night, waking up the entire household. This happened at least five times between November 5 and November 15, 2023.',\n",
              " 'March 1, 2024: The system would trigger an alarm in the middle of the night, waking up the entire household. This happened at least five times between November 5 and November 15, 2023.',\n",
              " \"March 1, 2024: The company initially suggested resetting the system. When that didn't work, they recommended updating the firmware on November 8, 2023. We followed all their instructions, but the false alarms\",\n",
              " \"March 1, 2024: The company initially suggested resetting the system. When that didn't work, they recommended updating the firmware on November 8, 2023. We followed all their instructions, but the false alarms\",\n",
              " \"March 1, 2024: Michael Perkins, Esq.: Let's discuss the security breach on November 20, 2023. Can you provide more details about that incident?\",\n",
              " 'March 1, 2024: Rachel Adams: I reported it immediately on November 21, 2023. They were apologetic and offered to send a replacement unit.',\n",
              " 'March 1, 2024: Rachel Adams: I reported it immediately on November 21, 2023. They were apologetic and offered to send a replacement unit.',\n",
              " 'March 1, 2024: Rachel Adams: The replacement unit had similar issues. On December 5, 2023, we experienced another false alarm, she says.',\n",
              " 'March 1, 2024: Rachel Adams: The replacement unit had similar issues. On December 5, 2023, we experienced another false alarm, she says.',\n",
              " 'March 1, 2024: Michael Perkins, Esq.: Can you provide more details about the false alarm on December 15, 2023?',\n",
              " 'March 1, 2024: We were out of town for the holidays, and the system triggered an alarm at around 2 AM. Our neighbor, who was watching our house, called us in a panic. The police',\n",
              " 'March 1, 2024: Rachel Adams: I contacted them on December 16, 2023, to report the false alarm. They apologized again and suggested more troubleshooting steps, but by that point, we had lost',\n",
              " 'March 1, 2024: We had to pay for the police response to the false alarm on December 15, 2023. We incurred costs for the attempted break-in repairs and the time spent troubleshooting.',\n",
              " \"March 1, 2024: CNN will be broadcasting a live special on CNN.com on August 22, 2024. Click here for more information about CNN's upcoming special.\",\n",
              " 'March 1, 2024: The false alarms were incredibly disruptive. They often occurred in the middle of the night. This led to sleep deprivation and increased stress for everyone.',\n",
              " 'March 1, 2024: The false alarms caused a lot of anxiety for our children. It took a toll on their sleep and made them feel unsafe in their own home. We had to reassure them constantly, which',\n",
              " 'March 1, 2024: On November 10, 2023, we adjusted the sensitivity settings on the system. We also installed additional motion sensors and cameras to cross-check any alerts. Despite these efforts, the false',\n",
              " 'March 1, 2024: The police response to the false alarm on December 15, 2023, cost us 500. The total cost, including lost work hours and emotional distress, is difficult to quantify but significant.',\n",
              " 'March 1, 2024: Rachel Adams consulted a family therapist starting in January 2024. The therapy sessions cost us around $100 per session. We attended weekly sessions for three months.',\n",
              " 'March 1, 2024: Rachel Adams consulted a family therapist starting in January 2024. The therapy sessions cost us around $100 per session. We attended weekly sessions for three months.',\n",
              " 'March 1, 2024: Rachel Adams consulted a family therapist starting in January 2024. The therapy sessions cost us around $100 per session. We attended weekly sessions for three months.',\n",
              " 'March 1, 2024: Rachel Adams: SafeHome was largely unresponsive. I sent them a detailed account of the costs and requested compensation on January 20, 2024. They acknowledged receipt of my request but did not',\n",
              " 'March 1, 2024: On February 1, 2024, we installed a new system from SecureHome Solutions. The new system has been reliable and has not caused any false alarms.',\n",
              " 'March 1, 2024: Rachel Adams filed a formal complaint on March 1, 2024. She is seeking compensation for the costs incurred and the emotional distress caused by the faulty system.']"
            ]
          },
          "metadata": {},
          "execution_count": 61
        }
      ]
    },
    {
      "cell_type": "markdown",
      "source": [
        "**future steps**\n",
        "\n",
        "document layout analysis: detecting layout of the document\n",
        "- sentence segmentation: ssplitting text into sentences -> could replace context window or add to it\n",
        "  - lots of different models for sentence segmentation.\n",
        "  - maybe split by periods and then remove the \"erma wiggins\" after\n",
        "- we should add \"no year detected\" to where we don't have years so that we aren't misconstruing information\n",
        "  - adding some precautionary text"
      ],
      "metadata": {
        "id": "Rgjy1VM7vZfX"
      }
    }
  ],
  "metadata": {
    "colab": {
      "provenance": [],
      "include_colab_link": true
    },
    "kernelspec": {
      "display_name": "Python 3",
      "name": "python3"
    },
    "language_info": {
      "name": "python"
    }
  },
  "nbformat": 4,
  "nbformat_minor": 0
}